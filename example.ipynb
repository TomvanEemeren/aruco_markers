{
 "cells": [
  {
   "cell_type": "markdown",
   "metadata": {},
   "source": [
    "# Detecting acuro markers with Alphabot 2\n",
    "\n"
   ]
  },
  {
   "cell_type": "markdown",
   "metadata": {},
   "source": [
    "## Alphabot 2 system\n",
    "\n",
    "This notebook provides a simple guide to generating and detecting ArUco markers for the Alphabot 2. To ensure compatibility, we first review the system specifications of the Alphabot 2. By default, it comes with the following configuration:\n",
    "\n",
    "- Mircoprocessor: Raspberry Pi 3 Model B+\n",
    "- Architecture: armv7l\n",
    "- System type: 32-bit\n",
    "- Debian version: 11 (bullseye)\n",
    "- Python version: 3.9.2\n",
    "\n",
    "Due to the 32-bit system architecture, the latest version of OpenCV cannot be installed via the pip package manager. Instead, an older version of OpenCV must be installed using the Advanced Package Tool (apt). Therefore, the installed openCV version is **4.5.4**. This older version does support the Aruco module."
   ]
  },
  {
   "cell_type": "markdown",
   "metadata": {},
   "source": [
    "## Generating Aruco markers\n",
    "\n",
    "Aruco markers can be used by the Aplhabot 2 for localisation. To this end, the aruco markers can either be attached to the robots and observed by a top-view mounted camera or placed on nearby walls for the robot's camera to detect. In both cases, the markers need to be generated first. This can be done by using the Aruco module from the OpenCV library. The Python script below handles Aruco marker generation. It requires the desired Aruco dictionary and marker ID that we want to generate. Although it is not included in this script, these generated markers can also be saved as a png for later use."
   ]
  },
  {
   "cell_type": "markdown",
   "metadata": {},
   "source": [
    "First we import the required python libraries:"
   ]
  },
  {
   "cell_type": "code",
   "execution_count": 1,
   "metadata": {},
   "outputs": [],
   "source": [
    "import cv2\n",
    "import numpy as np\n",
    "import matplotlib.pyplot as plt"
   ]
  },
  {
   "cell_type": "markdown",
   "metadata": {},
   "source": [
    "Next we define the Aruco dictionaries and select which one we want to use:"
   ]
  },
  {
   "cell_type": "code",
   "execution_count": 2,
   "metadata": {},
   "outputs": [],
   "source": [
    "ARUCO_DICT = {\n",
    "  \"DICT_4X4_50\": cv2.aruco.DICT_4X4_50,\n",
    "  \"DICT_4X4_100\": cv2.aruco.DICT_4X4_100,\n",
    "  \"DICT_4X4_250\": cv2.aruco.DICT_4X4_250,\n",
    "  \"DICT_4X4_1000\": cv2.aruco.DICT_4X4_1000,\n",
    "  \"DICT_5X5_50\": cv2.aruco.DICT_5X5_50,\n",
    "  \"DICT_5X5_100\": cv2.aruco.DICT_5X5_100,\n",
    "  \"DICT_5X5_250\": cv2.aruco.DICT_5X5_250,\n",
    "  \"DICT_5X5_1000\": cv2.aruco.DICT_5X5_1000,\n",
    "  \"DICT_6X6_50\": cv2.aruco.DICT_6X6_50,\n",
    "  \"DICT_6X6_100\": cv2.aruco.DICT_6X6_100,\n",
    "  \"DICT_6X6_250\": cv2.aruco.DICT_6X6_250,\n",
    "  \"DICT_6X6_1000\": cv2.aruco.DICT_6X6_1000,\n",
    "  \"DICT_7X7_50\": cv2.aruco.DICT_7X7_50,\n",
    "  \"DICT_7X7_100\": cv2.aruco.DICT_7X7_100,\n",
    "  \"DICT_7X7_250\": cv2.aruco.DICT_7X7_250,\n",
    "  \"DICT_7X7_1000\": cv2.aruco.DICT_7X7_1000,\n",
    "  \"DICT_ARUCO_ORIGINAL\": cv2.aruco.DICT_ARUCO_ORIGINAL\n",
    "}\n",
    "\n",
    "# Select the dictionary we want to use\n",
    "aruco_dict = cv2.aruco.getPredefinedDictionary(ARUCO_DICT[\"DICT_6X6_250\"])"
   ]
  },
  {
   "cell_type": "markdown",
   "metadata": {},
   "source": [
    "Then we generate a specific Aruco marker included in the dictionary:"
   ]
  },
  {
   "cell_type": "code",
   "execution_count": 3,
   "metadata": {},
   "outputs": [
    {
     "data": {
      "image/png": "[encoded data removed]",
      "text/plain": [
       "<Figure size 640x480 with 1 Axes>"
      ]
     },
     "metadata": {},
     "output_type": "display_data"
    }
   ],
   "source": [
    "# Choose the marker id\n",
    "marker_id = 40\n",
    "\n",
    "# Generate the marker\n",
    "marker_size = 200\n",
    "marker_image = cv2.aruco.drawMarker(aruco_dict, marker_id, marker_size)\n",
    "\n",
    "# Add a white border, otherwise the algorithm cannot detect it\n",
    "border_color = (255, 255, 255) \n",
    "border_size = 10 \n",
    "\n",
    "# Create a new image with the border\n",
    "image = cv2.copyMakeBorder(marker_image, border_size, border_size, border_size, border_size, cv2.BORDER_CONSTANT, value=border_color)\n",
    "\n",
    "# Show the generated marker\n",
    "plt.imshow(marker_image, cmap='gray', interpolation='nearest')\n",
    "plt.axis('off')\n",
    "plt.title(f'ArUco Marker {marker_id}')\n",
    "plt.show()"
   ]
  },
  {
   "cell_type": "markdown",
   "metadata": {},
   "source": [
    "## Detecting Acuro markers"
   ]
  },
  {
   "cell_type": "markdown",
   "metadata": {},
   "source": [
    "To demonstrate Aruco marker detection, we use the Aruco module from the OpenCV library to detect the ID of the previously generated marker. The detected ID is printed as output. It can be verified that this is the same ID as the original."
   ]
  },
  {
   "cell_type": "code",
   "execution_count": 4,
   "metadata": {},
   "outputs": [
    {
     "name": "stdout",
     "output_type": "stream",
     "text": [
      "Detected markers: [[40]]\n"
     ]
    }
   ],
   "source": [
    "aruco_dict = cv2.aruco.getPredefinedDictionary(cv2.aruco.DICT_6X6_250)\n",
    "parameters = cv2.aruco.DetectorParameters_create()\n",
    "\n",
    "corners, ids, rejected = cv2.aruco.detectMarkers(image, aruco_dict, parameters=parameters)\n",
    "print(\"Detected markers:\", ids)"
   ]
  }
 ],
 "metadata": {
  "kernelspec": {
   "display_name": "Python 3",
   "language": "python",
   "name": "python3"
  },
  "language_info": {
   "codemirror_mode": {
    "name": "ipython",
    "version": 3
   },
   "file_extension": ".py",
   "mimetype": "text/x-python",
   "name": "python",
   "nbconvert_exporter": "python",
   "pygments_lexer": "ipython3",
   "version": "3.10.12"
  }
 },
 "nbformat": 4,
 "nbformat_minor": 2
}
