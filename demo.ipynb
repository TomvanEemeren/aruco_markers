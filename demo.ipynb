{
 "cells": [
  {
   "cell_type": "markdown",
   "metadata": {},
   "source": [
    "# Detecting acuro markers with Alphabot 2\n",
    "\n"
   ]
  },
  {
   "cell_type": "markdown",
   "metadata": {},
   "source": [
    "## Alphabot 2 system\n",
    "\n",
    "- Mircoprocessor: Raspberry Pi 3 Model B+\n",
    "- Architecture: armv7l\n",
    "- System type: 32-bit\n",
    "- Debian version: 11 (bullseye)\n",
    "- Python version: 3.9.2"
   ]
  },
  {
   "cell_type": "markdown",
   "metadata": {},
   "source": [
    "Because the default system type is 32-bit, it is not possible to install the latest version of openCV with the pip package manager. Instead it is required to install an older version of openCV using the Advance Package Tool (apt). Hence, the openCV version is: **4.5.4**. This older version does include the aruco module."
   ]
  },
  {
   "cell_type": "markdown",
   "metadata": {},
   "source": [
    "## Generating Acuro markers"
   ]
  },
  {
   "cell_type": "code",
   "execution_count": 1,
   "metadata": {},
   "outputs": [
    {
     "data": {
      "image/png": "[encoded data removed]",
      "text/plain": [
       "<Figure size 640x480 with 1 Axes>"
      ]
     },
     "metadata": {},
     "output_type": "display_data"
    }
   ],
   "source": [
    "import cv2\n",
    "import numpy as np\n",
    "import matplotlib.pyplot as plt\n",
    "\n",
    "# Define the dictionary we want to use\n",
    "aruco_dict = cv2.aruco.getPredefinedDictionary(cv2.aruco.DICT_6X6_250)\n",
    "\n",
    "# Generate a marker\n",
    "marker_id = 40\n",
    "marker_size = 200  # Size in pixels\n",
    "marker_image = cv2.aruco.drawMarker(aruco_dict, marker_id, marker_size)\n",
    "\n",
    "border_color = (255, 255, 255)  # White color\n",
    "border_size = 10  # Size of the border in pixels\n",
    "\n",
    "# Create a new image with the border\n",
    "image = cv2.copyMakeBorder(marker_image, border_size, border_size, border_size, border_size, cv2.BORDER_CONSTANT, value=border_color)\n",
    "\n",
    "# Save the bordered image\n",
    "plt.imshow(marker_image, cmap='gray', interpolation='nearest')\n",
    "plt.axis('off')  # Hide axes\n",
    "plt.title(f'ArUco Marker {marker_id}')\n",
    "plt.show()"
   ]
  },
  {
   "cell_type": "markdown",
   "metadata": {},
   "source": [
    "## Detecting Acuro markers"
   ]
  },
  {
   "cell_type": "code",
   "execution_count": 2,
   "metadata": {},
   "outputs": [
    {
     "name": "stdout",
     "output_type": "stream",
     "text": [
      "Detected markers: [[40]]\n"
     ]
    }
   ],
   "source": [
    "import cv2\n",
    "import numpy as np\n",
    "\n",
    "aruco_dict = cv2.aruco.getPredefinedDictionary(cv2.aruco.DICT_6X6_250)\n",
    "parameters = cv2.aruco.DetectorParameters_create()\n",
    "\n",
    "corners, ids, rejected = cv2.aruco.detectMarkers(image, aruco_dict, parameters=parameters)\n",
    "print(\"Detected markers:\", ids)"
   ]
  }
 ],
 "metadata": {
  "kernelspec": {
   "display_name": "Python 3",
   "language": "python",
   "name": "python3"
  },
  "language_info": {
   "codemirror_mode": {
    "name": "ipython",
    "version": 3
   },
   "file_extension": ".py",
   "mimetype": "text/x-python",
   "name": "python",
   "nbconvert_exporter": "python",
   "pygments_lexer": "ipython3",
   "version": "3.10.12"
  }
 },
 "nbformat": 4,
 "nbformat_minor": 2
}
